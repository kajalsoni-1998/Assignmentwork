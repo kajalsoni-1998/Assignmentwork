{
 "cells": [
  {
   "cell_type": "code",
   "execution_count": 1,
   "id": "616f0203",
   "metadata": {},
   "outputs": [],
   "source": [
    "import pandas as pd \n",
    "import numpy as np \n",
    "import matplotlib.pyplot as plt \n",
    "import seaborn as sns \n",
    "from sklearn.model_selection import train_test_split\n",
    "from sklearn.linear_model import LinearRegression\n",
    "from sklearn.metrics import mean_squared_error,r2_score"
   ]
  },
  {
   "cell_type": "code",
   "execution_count": 2,
   "id": "7ab2231b",
   "metadata": {},
   "outputs": [],
   "source": [
    "delivery=pd.read_csv(r\"C:\\Data Science Assignments\\Basics Statistis 1\\simple linear regression\\delivery_time.csv\")"
   ]
  },
  {
   "cell_type": "markdown",
   "id": "3e08a115",
   "metadata": {},
   "source": [
    "## Exploratory Data Analysis(EDA)"
   ]
  },
  {
   "cell_type": "code",
   "execution_count": 3,
   "id": "0a05f3ef",
   "metadata": {},
   "outputs": [
    {
     "data": {
      "text/html": [
       "<div>\n",
       "<style scoped>\n",
       "    .dataframe tbody tr th:only-of-type {\n",
       "        vertical-align: middle;\n",
       "    }\n",
       "\n",
       "    .dataframe tbody tr th {\n",
       "        vertical-align: top;\n",
       "    }\n",
       "\n",
       "    .dataframe thead th {\n",
       "        text-align: right;\n",
       "    }\n",
       "</style>\n",
       "<table border=\"1\" class=\"dataframe\">\n",
       "  <thead>\n",
       "    <tr style=\"text-align: right;\">\n",
       "      <th></th>\n",
       "      <th>Delivery Time</th>\n",
       "      <th>Sorting Time</th>\n",
       "    </tr>\n",
       "  </thead>\n",
       "  <tbody>\n",
       "    <tr>\n",
       "      <th>0</th>\n",
       "      <td>21.00</td>\n",
       "      <td>10</td>\n",
       "    </tr>\n",
       "    <tr>\n",
       "      <th>1</th>\n",
       "      <td>13.50</td>\n",
       "      <td>4</td>\n",
       "    </tr>\n",
       "    <tr>\n",
       "      <th>2</th>\n",
       "      <td>19.75</td>\n",
       "      <td>6</td>\n",
       "    </tr>\n",
       "    <tr>\n",
       "      <th>3</th>\n",
       "      <td>24.00</td>\n",
       "      <td>9</td>\n",
       "    </tr>\n",
       "    <tr>\n",
       "      <th>4</th>\n",
       "      <td>29.00</td>\n",
       "      <td>10</td>\n",
       "    </tr>\n",
       "  </tbody>\n",
       "</table>\n",
       "</div>"
      ],
      "text/plain": [
       "   Delivery Time  Sorting Time\n",
       "0          21.00            10\n",
       "1          13.50             4\n",
       "2          19.75             6\n",
       "3          24.00             9\n",
       "4          29.00            10"
      ]
     },
     "execution_count": 3,
     "metadata": {},
     "output_type": "execute_result"
    }
   ],
   "source": [
    "delivery.head()"
   ]
  },
  {
   "cell_type": "code",
   "execution_count": 4,
   "id": "4a530c72",
   "metadata": {},
   "outputs": [
    {
     "data": {
      "text/plain": [
       "Index(['Delivery Time', 'Sorting Time'], dtype='object')"
      ]
     },
     "execution_count": 4,
     "metadata": {},
     "output_type": "execute_result"
    }
   ],
   "source": [
    "delivery.columns"
   ]
  },
  {
   "cell_type": "code",
   "execution_count": 5,
   "id": "17f59e2c",
   "metadata": {},
   "outputs": [
    {
     "data": {
      "text/plain": [
       "Delivery Time    float64\n",
       "Sorting Time       int64\n",
       "dtype: object"
      ]
     },
     "execution_count": 5,
     "metadata": {},
     "output_type": "execute_result"
    }
   ],
   "source": [
    "delivery.dtypes"
   ]
  },
  {
   "cell_type": "code",
   "execution_count": 6,
   "id": "ee84cd9b",
   "metadata": {},
   "outputs": [
    {
     "name": "stdout",
     "output_type": "stream",
     "text": [
      "<class 'pandas.core.frame.DataFrame'>\n",
      "RangeIndex: 21 entries, 0 to 20\n",
      "Data columns (total 2 columns):\n",
      " #   Column         Non-Null Count  Dtype  \n",
      "---  ------         --------------  -----  \n",
      " 0   Delivery Time  21 non-null     float64\n",
      " 1   Sorting Time   21 non-null     int64  \n",
      "dtypes: float64(1), int64(1)\n",
      "memory usage: 464.0 bytes\n"
     ]
    }
   ],
   "source": [
    "delivery.info()"
   ]
  },
  {
   "cell_type": "code",
   "execution_count": 7,
   "id": "2fe26e7d",
   "metadata": {},
   "outputs": [
    {
     "data": {
      "text/html": [
       "<div>\n",
       "<style scoped>\n",
       "    .dataframe tbody tr th:only-of-type {\n",
       "        vertical-align: middle;\n",
       "    }\n",
       "\n",
       "    .dataframe tbody tr th {\n",
       "        vertical-align: top;\n",
       "    }\n",
       "\n",
       "    .dataframe thead th {\n",
       "        text-align: right;\n",
       "    }\n",
       "</style>\n",
       "<table border=\"1\" class=\"dataframe\">\n",
       "  <thead>\n",
       "    <tr style=\"text-align: right;\">\n",
       "      <th></th>\n",
       "      <th>Delivery Time</th>\n",
       "      <th>Sorting Time</th>\n",
       "    </tr>\n",
       "  </thead>\n",
       "  <tbody>\n",
       "    <tr>\n",
       "      <th>count</th>\n",
       "      <td>21.000000</td>\n",
       "      <td>21.000000</td>\n",
       "    </tr>\n",
       "    <tr>\n",
       "      <th>mean</th>\n",
       "      <td>16.790952</td>\n",
       "      <td>6.190476</td>\n",
       "    </tr>\n",
       "    <tr>\n",
       "      <th>std</th>\n",
       "      <td>5.074901</td>\n",
       "      <td>2.542028</td>\n",
       "    </tr>\n",
       "    <tr>\n",
       "      <th>min</th>\n",
       "      <td>8.000000</td>\n",
       "      <td>2.000000</td>\n",
       "    </tr>\n",
       "    <tr>\n",
       "      <th>25%</th>\n",
       "      <td>13.500000</td>\n",
       "      <td>4.000000</td>\n",
       "    </tr>\n",
       "    <tr>\n",
       "      <th>50%</th>\n",
       "      <td>17.830000</td>\n",
       "      <td>6.000000</td>\n",
       "    </tr>\n",
       "    <tr>\n",
       "      <th>75%</th>\n",
       "      <td>19.750000</td>\n",
       "      <td>8.000000</td>\n",
       "    </tr>\n",
       "    <tr>\n",
       "      <th>max</th>\n",
       "      <td>29.000000</td>\n",
       "      <td>10.000000</td>\n",
       "    </tr>\n",
       "  </tbody>\n",
       "</table>\n",
       "</div>"
      ],
      "text/plain": [
       "       Delivery Time  Sorting Time\n",
       "count      21.000000     21.000000\n",
       "mean       16.790952      6.190476\n",
       "std         5.074901      2.542028\n",
       "min         8.000000      2.000000\n",
       "25%        13.500000      4.000000\n",
       "50%        17.830000      6.000000\n",
       "75%        19.750000      8.000000\n",
       "max        29.000000     10.000000"
      ]
     },
     "execution_count": 7,
     "metadata": {},
     "output_type": "execute_result"
    }
   ],
   "source": [
    "delivery.describe(include='all')"
   ]
  },
  {
   "cell_type": "code",
   "execution_count": 8,
   "id": "1d73f6c8",
   "metadata": {},
   "outputs": [
    {
     "data": {
      "text/plain": [
       "Delivery Time    0\n",
       "Sorting Time     0\n",
       "dtype: int64"
      ]
     },
     "execution_count": 8,
     "metadata": {},
     "output_type": "execute_result"
    }
   ],
   "source": [
    "delivery.isnull().sum()"
   ]
  },
  {
   "cell_type": "markdown",
   "id": "24d02130",
   "metadata": {},
   "source": [
    "###  Log Transformation"
   ]
  },
  {
   "cell_type": "code",
   "execution_count": 9,
   "id": "41337397",
   "metadata": {},
   "outputs": [
    {
     "name": "stdout",
     "output_type": "stream",
     "text": [
      "Index(['Delivery Time', 'Sorting Time'], dtype='object')\n"
     ]
    }
   ],
   "source": [
    "print(delivery.columns)\n"
   ]
  },
  {
   "cell_type": "code",
   "execution_count": 10,
   "id": "8865af07",
   "metadata": {},
   "outputs": [
    {
     "data": {
      "image/png": "[encoded data removed]",
      "text/plain": [
       "<Figure size 432x288 with 1 Axes>"
      ]
     },
     "metadata": {
      "needs_background": "light"
     },
     "output_type": "display_data"
    }
   ],
   "source": [
    "delivery['Sorting Time_log']= np.log(delivery['Sorting Time'])\n",
    "\n",
    "plt.scatter(delivery['Sorting Time'],delivery['Delivery Time'])\n",
    "plt.xlabel('Log(Sorting Time)')\n",
    "plt.ylabel('Delivery Time')\n",
    "plt.title('Log Transformation')\n",
    "plt.show()"
   ]
  },
  {
   "cell_type": "code",
   "execution_count": 11,
   "id": "44f3d159",
   "metadata": {},
   "outputs": [
    {
     "name": "stdout",
     "output_type": "stream",
     "text": [
      "Intercept: 1.1596835115465645\n",
      "Coefficient: [9.04341346]\n"
     ]
    }
   ],
   "source": [
    "model_log = LinearRegression()\n",
    "model_log.fit(delivery[['Sorting Time_log']], delivery['Delivery Time'])\n",
    "print(f'Intercept: {model_log.intercept_}')\n",
    "print(f'Coefficient: {model_log.coef_}')"
   ]
  },
  {
   "cell_type": "markdown",
   "id": "f525c65a",
   "metadata": {},
   "source": [
    "### Square Root (sqrt) Transformation"
   ]
  },
  {
   "cell_type": "code",
   "execution_count": 12,
   "id": "573bc33f",
   "metadata": {},
   "outputs": [
    {
     "data": {
      "image/png": "[encoded data removed]",
      "text/plain": [
       "<Figure size 432x288 with 1 Axes>"
      ]
     },
     "metadata": {
      "needs_background": "light"
     },
     "output_type": "display_data"
    },
    {
     "name": "stdout",
     "output_type": "stream",
     "text": [
      "Intercept: 6.58273397199706\n",
      "Coefficient: [1.6490199]\n"
     ]
    }
   ],
   "source": [
    "\n",
    "delivery['Sorting Time_sqrt'] = np.sqrt(delivery['Sorting Time'])\n",
    "\n",
    "# Create a scatter plot of the transformed data\n",
    "plt.scatter(delivery['Sorting Time'], delivery['Delivery Time'])\n",
    "plt.xlabel('Sorting Time')\n",
    "plt.ylabel('Delivery Time')\n",
    "plt.title('Square Root Transformation')\n",
    "plt.show()\n",
    "\n",
    "# Perform linear regression\n",
    "model_sqrt = LinearRegression()\n",
    "model_sqrt.fit(delivery[['Sorting Time']], delivery['Delivery Time'])\n",
    "print(f'Intercept: {model_sqrt.intercept_}')\n",
    "print(f'Coefficient: {model_sqrt.coef_}')\n"
   ]
  },
  {
   "cell_type": "markdown",
   "id": "301e8718",
   "metadata": {},
   "source": [
    "###  Square (sq) Transformation"
   ]
  },
  {
   "cell_type": "code",
   "execution_count": 13,
   "id": "c16e1d71",
   "metadata": {},
   "outputs": [
    {
     "data": {
      "image/png": "[encoded data removed]",
      "text/plain": [
       "<Figure size 432x288 with 1 Axes>"
      ]
     },
     "metadata": {
      "needs_background": "light"
     },
     "output_type": "display_data"
    },
    {
     "name": "stdout",
     "output_type": "stream",
     "text": [
      "Intercept: 6.58273397199706\n",
      "Coefficient: [1.6490199]\n"
     ]
    }
   ],
   "source": [
    "delivery['Sorting Time_sq'] = np.square(delivery['Sorting Time'])\n",
    "\n",
    "# Create a scatter plot of the transformed data\n",
    "plt.scatter(delivery['Sorting Time'], delivery['Delivery Time'])\n",
    "plt.xlabel('Sorting Time^2')\n",
    "plt.ylabel('Delivery Time')\n",
    "plt.title('Square Transformation')\n",
    "plt.show()\n",
    "\n",
    "# Perform linear regression\n",
    "model_sq = LinearRegression()\n",
    "model_sq.fit(delivery[['Sorting Time']], delivery['Delivery Time'])\n",
    "print(f'Intercept: {model_sq.intercept_}')\n",
    "print(f'Coefficient: {model_sq.coef_}')"
   ]
  },
  {
   "cell_type": "markdown",
   "id": "23b9c21d",
   "metadata": {},
   "source": [
    "#### Replacing missing values"
   ]
  },
  {
   "cell_type": "code",
   "execution_count": 16,
   "id": "c4631816",
   "metadata": {},
   "outputs": [],
   "source": [
    "## replace with mean, median, number"
   ]
  },
  {
   "cell_type": "code",
   "execution_count": 17,
   "id": "2ee35b90",
   "metadata": {},
   "outputs": [
    {
     "data": {
      "text/html": [
       "<div>\n",
       "<style scoped>\n",
       "    .dataframe tbody tr th:only-of-type {\n",
       "        vertical-align: middle;\n",
       "    }\n",
       "\n",
       "    .dataframe tbody tr th {\n",
       "        vertical-align: top;\n",
       "    }\n",
       "\n",
       "    .dataframe thead th {\n",
       "        text-align: right;\n",
       "    }\n",
       "</style>\n",
       "<table border=\"1\" class=\"dataframe\">\n",
       "  <thead>\n",
       "    <tr style=\"text-align: right;\">\n",
       "      <th></th>\n",
       "      <th>Delivery Time</th>\n",
       "      <th>Sorting Time</th>\n",
       "      <th>Sorting Time_log</th>\n",
       "      <th>Sorting Time_sqrt</th>\n",
       "      <th>Sorting Time_sq</th>\n",
       "      <th>Log_Delivery_Time</th>\n",
       "      <th>Sqrt_Sorting_Time</th>\n",
       "      <th>Sq_Delivery_Time</th>\n",
       "    </tr>\n",
       "  </thead>\n",
       "  <tbody>\n",
       "    <tr>\n",
       "      <th>0</th>\n",
       "      <td>21.00</td>\n",
       "      <td>10</td>\n",
       "      <td>2.302585</td>\n",
       "      <td>3.162278</td>\n",
       "      <td>100</td>\n",
       "      <td>3.044522</td>\n",
       "      <td>3.162278</td>\n",
       "      <td>441.0000</td>\n",
       "    </tr>\n",
       "    <tr>\n",
       "      <th>1</th>\n",
       "      <td>13.50</td>\n",
       "      <td>4</td>\n",
       "      <td>1.386294</td>\n",
       "      <td>2.000000</td>\n",
       "      <td>16</td>\n",
       "      <td>2.602690</td>\n",
       "      <td>2.000000</td>\n",
       "      <td>182.2500</td>\n",
       "    </tr>\n",
       "    <tr>\n",
       "      <th>2</th>\n",
       "      <td>19.75</td>\n",
       "      <td>6</td>\n",
       "      <td>1.791759</td>\n",
       "      <td>2.449490</td>\n",
       "      <td>36</td>\n",
       "      <td>2.983153</td>\n",
       "      <td>2.449490</td>\n",
       "      <td>390.0625</td>\n",
       "    </tr>\n",
       "    <tr>\n",
       "      <th>3</th>\n",
       "      <td>24.00</td>\n",
       "      <td>9</td>\n",
       "      <td>2.197225</td>\n",
       "      <td>3.000000</td>\n",
       "      <td>81</td>\n",
       "      <td>3.178054</td>\n",
       "      <td>3.000000</td>\n",
       "      <td>576.0000</td>\n",
       "    </tr>\n",
       "    <tr>\n",
       "      <th>4</th>\n",
       "      <td>29.00</td>\n",
       "      <td>10</td>\n",
       "      <td>2.302585</td>\n",
       "      <td>3.162278</td>\n",
       "      <td>100</td>\n",
       "      <td>3.367296</td>\n",
       "      <td>3.162278</td>\n",
       "      <td>841.0000</td>\n",
       "    </tr>\n",
       "    <tr>\n",
       "      <th>5</th>\n",
       "      <td>15.35</td>\n",
       "      <td>6</td>\n",
       "      <td>1.791759</td>\n",
       "      <td>2.449490</td>\n",
       "      <td>36</td>\n",
       "      <td>2.731115</td>\n",
       "      <td>2.449490</td>\n",
       "      <td>235.6225</td>\n",
       "    </tr>\n",
       "    <tr>\n",
       "      <th>6</th>\n",
       "      <td>19.00</td>\n",
       "      <td>7</td>\n",
       "      <td>1.945910</td>\n",
       "      <td>2.645751</td>\n",
       "      <td>49</td>\n",
       "      <td>2.944439</td>\n",
       "      <td>2.645751</td>\n",
       "      <td>361.0000</td>\n",
       "    </tr>\n",
       "    <tr>\n",
       "      <th>7</th>\n",
       "      <td>9.50</td>\n",
       "      <td>3</td>\n",
       "      <td>1.098612</td>\n",
       "      <td>1.732051</td>\n",
       "      <td>9</td>\n",
       "      <td>2.251292</td>\n",
       "      <td>1.732051</td>\n",
       "      <td>90.2500</td>\n",
       "    </tr>\n",
       "    <tr>\n",
       "      <th>8</th>\n",
       "      <td>17.90</td>\n",
       "      <td>10</td>\n",
       "      <td>2.302585</td>\n",
       "      <td>3.162278</td>\n",
       "      <td>100</td>\n",
       "      <td>2.884801</td>\n",
       "      <td>3.162278</td>\n",
       "      <td>320.4100</td>\n",
       "    </tr>\n",
       "    <tr>\n",
       "      <th>9</th>\n",
       "      <td>18.75</td>\n",
       "      <td>9</td>\n",
       "      <td>2.197225</td>\n",
       "      <td>3.000000</td>\n",
       "      <td>81</td>\n",
       "      <td>2.931194</td>\n",
       "      <td>3.000000</td>\n",
       "      <td>351.5625</td>\n",
       "    </tr>\n",
       "    <tr>\n",
       "      <th>10</th>\n",
       "      <td>19.83</td>\n",
       "      <td>8</td>\n",
       "      <td>2.079442</td>\n",
       "      <td>2.828427</td>\n",
       "      <td>64</td>\n",
       "      <td>2.987196</td>\n",
       "      <td>2.828427</td>\n",
       "      <td>393.2289</td>\n",
       "    </tr>\n",
       "    <tr>\n",
       "      <th>11</th>\n",
       "      <td>10.75</td>\n",
       "      <td>4</td>\n",
       "      <td>1.386294</td>\n",
       "      <td>2.000000</td>\n",
       "      <td>16</td>\n",
       "      <td>2.374906</td>\n",
       "      <td>2.000000</td>\n",
       "      <td>115.5625</td>\n",
       "    </tr>\n",
       "    <tr>\n",
       "      <th>12</th>\n",
       "      <td>16.68</td>\n",
       "      <td>7</td>\n",
       "      <td>1.945910</td>\n",
       "      <td>2.645751</td>\n",
       "      <td>49</td>\n",
       "      <td>2.814210</td>\n",
       "      <td>2.645751</td>\n",
       "      <td>278.2224</td>\n",
       "    </tr>\n",
       "    <tr>\n",
       "      <th>13</th>\n",
       "      <td>11.50</td>\n",
       "      <td>3</td>\n",
       "      <td>1.098612</td>\n",
       "      <td>1.732051</td>\n",
       "      <td>9</td>\n",
       "      <td>2.442347</td>\n",
       "      <td>1.732051</td>\n",
       "      <td>132.2500</td>\n",
       "    </tr>\n",
       "    <tr>\n",
       "      <th>14</th>\n",
       "      <td>12.03</td>\n",
       "      <td>3</td>\n",
       "      <td>1.098612</td>\n",
       "      <td>1.732051</td>\n",
       "      <td>9</td>\n",
       "      <td>2.487404</td>\n",
       "      <td>1.732051</td>\n",
       "      <td>144.7209</td>\n",
       "    </tr>\n",
       "    <tr>\n",
       "      <th>15</th>\n",
       "      <td>14.88</td>\n",
       "      <td>4</td>\n",
       "      <td>1.386294</td>\n",
       "      <td>2.000000</td>\n",
       "      <td>16</td>\n",
       "      <td>2.700018</td>\n",
       "      <td>2.000000</td>\n",
       "      <td>221.4144</td>\n",
       "    </tr>\n",
       "    <tr>\n",
       "      <th>16</th>\n",
       "      <td>13.75</td>\n",
       "      <td>6</td>\n",
       "      <td>1.791759</td>\n",
       "      <td>2.449490</td>\n",
       "      <td>36</td>\n",
       "      <td>2.621039</td>\n",
       "      <td>2.449490</td>\n",
       "      <td>189.0625</td>\n",
       "    </tr>\n",
       "    <tr>\n",
       "      <th>17</th>\n",
       "      <td>18.11</td>\n",
       "      <td>7</td>\n",
       "      <td>1.945910</td>\n",
       "      <td>2.645751</td>\n",
       "      <td>49</td>\n",
       "      <td>2.896464</td>\n",
       "      <td>2.645751</td>\n",
       "      <td>327.9721</td>\n",
       "    </tr>\n",
       "    <tr>\n",
       "      <th>18</th>\n",
       "      <td>8.00</td>\n",
       "      <td>2</td>\n",
       "      <td>0.693147</td>\n",
       "      <td>1.414214</td>\n",
       "      <td>4</td>\n",
       "      <td>2.079442</td>\n",
       "      <td>1.414214</td>\n",
       "      <td>64.0000</td>\n",
       "    </tr>\n",
       "    <tr>\n",
       "      <th>19</th>\n",
       "      <td>17.83</td>\n",
       "      <td>7</td>\n",
       "      <td>1.945910</td>\n",
       "      <td>2.645751</td>\n",
       "      <td>49</td>\n",
       "      <td>2.880882</td>\n",
       "      <td>2.645751</td>\n",
       "      <td>317.9089</td>\n",
       "    </tr>\n",
       "    <tr>\n",
       "      <th>20</th>\n",
       "      <td>21.50</td>\n",
       "      <td>5</td>\n",
       "      <td>1.609438</td>\n",
       "      <td>2.236068</td>\n",
       "      <td>25</td>\n",
       "      <td>3.068053</td>\n",
       "      <td>2.236068</td>\n",
       "      <td>462.2500</td>\n",
       "    </tr>\n",
       "  </tbody>\n",
       "</table>\n",
       "</div>"
      ],
      "text/plain": [
       "    Delivery Time  Sorting Time  Sorting Time_log  Sorting Time_sqrt  \\\n",
       "0           21.00            10          2.302585           3.162278   \n",
       "1           13.50             4          1.386294           2.000000   \n",
       "2           19.75             6          1.791759           2.449490   \n",
       "3           24.00             9          2.197225           3.000000   \n",
       "4           29.00            10          2.302585           3.162278   \n",
       "5           15.35             6          1.791759           2.449490   \n",
       "6           19.00             7          1.945910           2.645751   \n",
       "7            9.50             3          1.098612           1.732051   \n",
       "8           17.90            10          2.302585           3.162278   \n",
       "9           18.75             9          2.197225           3.000000   \n",
       "10          19.83             8          2.079442           2.828427   \n",
       "11          10.75             4          1.386294           2.000000   \n",
       "12          16.68             7          1.945910           2.645751   \n",
       "13          11.50             3          1.098612           1.732051   \n",
       "14          12.03             3          1.098612           1.732051   \n",
       "15          14.88             4          1.386294           2.000000   \n",
       "16          13.75             6          1.791759           2.449490   \n",
       "17          18.11             7          1.945910           2.645751   \n",
       "18           8.00             2          0.693147           1.414214   \n",
       "19          17.83             7          1.945910           2.645751   \n",
       "20          21.50             5          1.609438           2.236068   \n",
       "\n",
       "    Sorting Time_sq  Log_Delivery_Time  Sqrt_Sorting_Time  Sq_Delivery_Time  \n",
       "0               100           3.044522           3.162278          441.0000  \n",
       "1                16           2.602690           2.000000          182.2500  \n",
       "2                36           2.983153           2.449490          390.0625  \n",
       "3                81           3.178054           3.000000          576.0000  \n",
       "4               100           3.367296           3.162278          841.0000  \n",
       "5                36           2.731115           2.449490          235.6225  \n",
       "6                49           2.944439           2.645751          361.0000  \n",
       "7                 9           2.251292           1.732051           90.2500  \n",
       "8               100           2.884801           3.162278          320.4100  \n",
       "9                81           2.931194           3.000000          351.5625  \n",
       "10               64           2.987196           2.828427          393.2289  \n",
       "11               16           2.374906           2.000000          115.5625  \n",
       "12               49           2.814210           2.645751          278.2224  \n",
       "13                9           2.442347           1.732051          132.2500  \n",
       "14                9           2.487404           1.732051          144.7209  \n",
       "15               16           2.700018           2.000000          221.4144  \n",
       "16               36           2.621039           2.449490          189.0625  \n",
       "17               49           2.896464           2.645751          327.9721  \n",
       "18                4           2.079442           1.414214           64.0000  \n",
       "19               49           2.880882           2.645751          317.9089  \n",
       "20               25           3.068053           2.236068          462.2500  "
      ]
     },
     "execution_count": 17,
     "metadata": {},
     "output_type": "execute_result"
    }
   ],
   "source": [
    "delivery"
   ]
  },
  {
   "cell_type": "markdown",
   "id": "f1fcf90e",
   "metadata": {},
   "source": [
    "####  Removing outliers"
   ]
  },
  {
   "cell_type": "code",
   "execution_count": 18,
   "id": "963c2af4",
   "metadata": {},
   "outputs": [
    {
     "data": {
      "text/html": [
       "<div>\n",
       "<style scoped>\n",
       "    .dataframe tbody tr th:only-of-type {\n",
       "        vertical-align: middle;\n",
       "    }\n",
       "\n",
       "    .dataframe tbody tr th {\n",
       "        vertical-align: top;\n",
       "    }\n",
       "\n",
       "    .dataframe thead th {\n",
       "        text-align: right;\n",
       "    }\n",
       "</style>\n",
       "<table border=\"1\" class=\"dataframe\">\n",
       "  <thead>\n",
       "    <tr style=\"text-align: right;\">\n",
       "      <th></th>\n",
       "      <th>Delivery Time</th>\n",
       "      <th>Sorting Time</th>\n",
       "      <th>Sorting Time_log</th>\n",
       "      <th>Sorting Time_sqrt</th>\n",
       "      <th>Sorting Time_sq</th>\n",
       "      <th>Log_Delivery_Time</th>\n",
       "      <th>Sqrt_Sorting_Time</th>\n",
       "      <th>Sq_Delivery_Time</th>\n",
       "    </tr>\n",
       "  </thead>\n",
       "  <tbody>\n",
       "    <tr>\n",
       "      <th>0</th>\n",
       "      <td>21.00</td>\n",
       "      <td>10</td>\n",
       "      <td>2.302585</td>\n",
       "      <td>3.162278</td>\n",
       "      <td>100</td>\n",
       "      <td>3.044522</td>\n",
       "      <td>3.162278</td>\n",
       "      <td>441.0000</td>\n",
       "    </tr>\n",
       "    <tr>\n",
       "      <th>1</th>\n",
       "      <td>13.50</td>\n",
       "      <td>4</td>\n",
       "      <td>1.386294</td>\n",
       "      <td>2.000000</td>\n",
       "      <td>16</td>\n",
       "      <td>2.602690</td>\n",
       "      <td>2.000000</td>\n",
       "      <td>182.2500</td>\n",
       "    </tr>\n",
       "    <tr>\n",
       "      <th>2</th>\n",
       "      <td>19.75</td>\n",
       "      <td>6</td>\n",
       "      <td>1.791759</td>\n",
       "      <td>2.449490</td>\n",
       "      <td>36</td>\n",
       "      <td>2.983153</td>\n",
       "      <td>2.449490</td>\n",
       "      <td>390.0625</td>\n",
       "    </tr>\n",
       "    <tr>\n",
       "      <th>3</th>\n",
       "      <td>24.00</td>\n",
       "      <td>9</td>\n",
       "      <td>2.197225</td>\n",
       "      <td>3.000000</td>\n",
       "      <td>81</td>\n",
       "      <td>3.178054</td>\n",
       "      <td>3.000000</td>\n",
       "      <td>576.0000</td>\n",
       "    </tr>\n",
       "    <tr>\n",
       "      <th>4</th>\n",
       "      <td>29.00</td>\n",
       "      <td>10</td>\n",
       "      <td>2.302585</td>\n",
       "      <td>3.162278</td>\n",
       "      <td>100</td>\n",
       "      <td>3.367296</td>\n",
       "      <td>3.162278</td>\n",
       "      <td>841.0000</td>\n",
       "    </tr>\n",
       "    <tr>\n",
       "      <th>5</th>\n",
       "      <td>15.35</td>\n",
       "      <td>6</td>\n",
       "      <td>1.791759</td>\n",
       "      <td>2.449490</td>\n",
       "      <td>36</td>\n",
       "      <td>2.731115</td>\n",
       "      <td>2.449490</td>\n",
       "      <td>235.6225</td>\n",
       "    </tr>\n",
       "    <tr>\n",
       "      <th>6</th>\n",
       "      <td>19.00</td>\n",
       "      <td>7</td>\n",
       "      <td>1.945910</td>\n",
       "      <td>2.645751</td>\n",
       "      <td>49</td>\n",
       "      <td>2.944439</td>\n",
       "      <td>2.645751</td>\n",
       "      <td>361.0000</td>\n",
       "    </tr>\n",
       "    <tr>\n",
       "      <th>7</th>\n",
       "      <td>9.50</td>\n",
       "      <td>3</td>\n",
       "      <td>1.098612</td>\n",
       "      <td>1.732051</td>\n",
       "      <td>9</td>\n",
       "      <td>2.251292</td>\n",
       "      <td>1.732051</td>\n",
       "      <td>90.2500</td>\n",
       "    </tr>\n",
       "    <tr>\n",
       "      <th>8</th>\n",
       "      <td>17.90</td>\n",
       "      <td>10</td>\n",
       "      <td>2.302585</td>\n",
       "      <td>3.162278</td>\n",
       "      <td>100</td>\n",
       "      <td>2.884801</td>\n",
       "      <td>3.162278</td>\n",
       "      <td>320.4100</td>\n",
       "    </tr>\n",
       "    <tr>\n",
       "      <th>9</th>\n",
       "      <td>18.75</td>\n",
       "      <td>9</td>\n",
       "      <td>2.197225</td>\n",
       "      <td>3.000000</td>\n",
       "      <td>81</td>\n",
       "      <td>2.931194</td>\n",
       "      <td>3.000000</td>\n",
       "      <td>351.5625</td>\n",
       "    </tr>\n",
       "    <tr>\n",
       "      <th>10</th>\n",
       "      <td>19.83</td>\n",
       "      <td>8</td>\n",
       "      <td>2.079442</td>\n",
       "      <td>2.828427</td>\n",
       "      <td>64</td>\n",
       "      <td>2.987196</td>\n",
       "      <td>2.828427</td>\n",
       "      <td>393.2289</td>\n",
       "    </tr>\n",
       "    <tr>\n",
       "      <th>11</th>\n",
       "      <td>10.75</td>\n",
       "      <td>4</td>\n",
       "      <td>1.386294</td>\n",
       "      <td>2.000000</td>\n",
       "      <td>16</td>\n",
       "      <td>2.374906</td>\n",
       "      <td>2.000000</td>\n",
       "      <td>115.5625</td>\n",
       "    </tr>\n",
       "    <tr>\n",
       "      <th>12</th>\n",
       "      <td>16.68</td>\n",
       "      <td>7</td>\n",
       "      <td>1.945910</td>\n",
       "      <td>2.645751</td>\n",
       "      <td>49</td>\n",
       "      <td>2.814210</td>\n",
       "      <td>2.645751</td>\n",
       "      <td>278.2224</td>\n",
       "    </tr>\n",
       "    <tr>\n",
       "      <th>13</th>\n",
       "      <td>11.50</td>\n",
       "      <td>3</td>\n",
       "      <td>1.098612</td>\n",
       "      <td>1.732051</td>\n",
       "      <td>9</td>\n",
       "      <td>2.442347</td>\n",
       "      <td>1.732051</td>\n",
       "      <td>132.2500</td>\n",
       "    </tr>\n",
       "    <tr>\n",
       "      <th>14</th>\n",
       "      <td>12.03</td>\n",
       "      <td>3</td>\n",
       "      <td>1.098612</td>\n",
       "      <td>1.732051</td>\n",
       "      <td>9</td>\n",
       "      <td>2.487404</td>\n",
       "      <td>1.732051</td>\n",
       "      <td>144.7209</td>\n",
       "    </tr>\n",
       "    <tr>\n",
       "      <th>15</th>\n",
       "      <td>14.88</td>\n",
       "      <td>4</td>\n",
       "      <td>1.386294</td>\n",
       "      <td>2.000000</td>\n",
       "      <td>16</td>\n",
       "      <td>2.700018</td>\n",
       "      <td>2.000000</td>\n",
       "      <td>221.4144</td>\n",
       "    </tr>\n",
       "    <tr>\n",
       "      <th>16</th>\n",
       "      <td>13.75</td>\n",
       "      <td>6</td>\n",
       "      <td>1.791759</td>\n",
       "      <td>2.449490</td>\n",
       "      <td>36</td>\n",
       "      <td>2.621039</td>\n",
       "      <td>2.449490</td>\n",
       "      <td>189.0625</td>\n",
       "    </tr>\n",
       "    <tr>\n",
       "      <th>17</th>\n",
       "      <td>18.11</td>\n",
       "      <td>7</td>\n",
       "      <td>1.945910</td>\n",
       "      <td>2.645751</td>\n",
       "      <td>49</td>\n",
       "      <td>2.896464</td>\n",
       "      <td>2.645751</td>\n",
       "      <td>327.9721</td>\n",
       "    </tr>\n",
       "    <tr>\n",
       "      <th>18</th>\n",
       "      <td>8.00</td>\n",
       "      <td>2</td>\n",
       "      <td>0.693147</td>\n",
       "      <td>1.414214</td>\n",
       "      <td>4</td>\n",
       "      <td>2.079442</td>\n",
       "      <td>1.414214</td>\n",
       "      <td>64.0000</td>\n",
       "    </tr>\n",
       "    <tr>\n",
       "      <th>19</th>\n",
       "      <td>17.83</td>\n",
       "      <td>7</td>\n",
       "      <td>1.945910</td>\n",
       "      <td>2.645751</td>\n",
       "      <td>49</td>\n",
       "      <td>2.880882</td>\n",
       "      <td>2.645751</td>\n",
       "      <td>317.9089</td>\n",
       "    </tr>\n",
       "    <tr>\n",
       "      <th>20</th>\n",
       "      <td>21.50</td>\n",
       "      <td>5</td>\n",
       "      <td>1.609438</td>\n",
       "      <td>2.236068</td>\n",
       "      <td>25</td>\n",
       "      <td>3.068053</td>\n",
       "      <td>2.236068</td>\n",
       "      <td>462.2500</td>\n",
       "    </tr>\n",
       "  </tbody>\n",
       "</table>\n",
       "</div>"
      ],
      "text/plain": [
       "    Delivery Time  Sorting Time  Sorting Time_log  Sorting Time_sqrt  \\\n",
       "0           21.00            10          2.302585           3.162278   \n",
       "1           13.50             4          1.386294           2.000000   \n",
       "2           19.75             6          1.791759           2.449490   \n",
       "3           24.00             9          2.197225           3.000000   \n",
       "4           29.00            10          2.302585           3.162278   \n",
       "5           15.35             6          1.791759           2.449490   \n",
       "6           19.00             7          1.945910           2.645751   \n",
       "7            9.50             3          1.098612           1.732051   \n",
       "8           17.90            10          2.302585           3.162278   \n",
       "9           18.75             9          2.197225           3.000000   \n",
       "10          19.83             8          2.079442           2.828427   \n",
       "11          10.75             4          1.386294           2.000000   \n",
       "12          16.68             7          1.945910           2.645751   \n",
       "13          11.50             3          1.098612           1.732051   \n",
       "14          12.03             3          1.098612           1.732051   \n",
       "15          14.88             4          1.386294           2.000000   \n",
       "16          13.75             6          1.791759           2.449490   \n",
       "17          18.11             7          1.945910           2.645751   \n",
       "18           8.00             2          0.693147           1.414214   \n",
       "19          17.83             7          1.945910           2.645751   \n",
       "20          21.50             5          1.609438           2.236068   \n",
       "\n",
       "    Sorting Time_sq  Log_Delivery_Time  Sqrt_Sorting_Time  Sq_Delivery_Time  \n",
       "0               100           3.044522           3.162278          441.0000  \n",
       "1                16           2.602690           2.000000          182.2500  \n",
       "2                36           2.983153           2.449490          390.0625  \n",
       "3                81           3.178054           3.000000          576.0000  \n",
       "4               100           3.367296           3.162278          841.0000  \n",
       "5                36           2.731115           2.449490          235.6225  \n",
       "6                49           2.944439           2.645751          361.0000  \n",
       "7                 9           2.251292           1.732051           90.2500  \n",
       "8               100           2.884801           3.162278          320.4100  \n",
       "9                81           2.931194           3.000000          351.5625  \n",
       "10               64           2.987196           2.828427          393.2289  \n",
       "11               16           2.374906           2.000000          115.5625  \n",
       "12               49           2.814210           2.645751          278.2224  \n",
       "13                9           2.442347           1.732051          132.2500  \n",
       "14                9           2.487404           1.732051          144.7209  \n",
       "15               16           2.700018           2.000000          221.4144  \n",
       "16               36           2.621039           2.449490          189.0625  \n",
       "17               49           2.896464           2.645751          327.9721  \n",
       "18                4           2.079442           1.414214           64.0000  \n",
       "19               49           2.880882           2.645751          317.9089  \n",
       "20               25           3.068053           2.236068          462.2500  "
      ]
     },
     "execution_count": 18,
     "metadata": {},
     "output_type": "execute_result"
    }
   ],
   "source": [
    "delivery"
   ]
  },
  {
   "cell_type": "code",
   "execution_count": 19,
   "id": "52a7fc87",
   "metadata": {},
   "outputs": [
    {
     "data": {
      "text/plain": [
       "<AxesSubplot:>"
      ]
     },
     "execution_count": 19,
     "metadata": {},
     "output_type": "execute_result"
    },
    {
     "data": {
      "image/png": "[encoded data removed]",
      "text/plain": [
       "<Figure size 432x288 with 1 Axes>"
      ]
     },
     "metadata": {
      "needs_background": "light"
     },
     "output_type": "display_data"
    }
   ],
   "source": [
    "delivery.boxplot(column='Delivery Time')"
   ]
  },
  {
   "cell_type": "code",
   "execution_count": 20,
   "id": "455bd86b",
   "metadata": {},
   "outputs": [],
   "source": [
    "y= delivery[['Delivery Time']]\n",
    "x= delivery['Sorting Time']"
   ]
  },
  {
   "cell_type": "code",
   "execution_count": 21,
   "id": "c9a69eda",
   "metadata": {},
   "outputs": [
    {
     "data": {
      "text/plain": [
       "0     10\n",
       "1      4\n",
       "2      6\n",
       "3      9\n",
       "4     10\n",
       "5      6\n",
       "6      7\n",
       "7      3\n",
       "8     10\n",
       "9      9\n",
       "10     8\n",
       "11     4\n",
       "12     7\n",
       "13     3\n",
       "14     3\n",
       "15     4\n",
       "16     6\n",
       "17     7\n",
       "18     2\n",
       "19     7\n",
       "20     5\n",
       "Name: Sorting Time, dtype: int64"
      ]
     },
     "execution_count": 21,
     "metadata": {},
     "output_type": "execute_result"
    }
   ],
   "source": [
    "x"
   ]
  },
  {
   "cell_type": "code",
   "execution_count": 22,
   "id": "7a4ce89c",
   "metadata": {},
   "outputs": [
    {
     "data": {
      "text/html": [
       "<div>\n",
       "<style scoped>\n",
       "    .dataframe tbody tr th:only-of-type {\n",
       "        vertical-align: middle;\n",
       "    }\n",
       "\n",
       "    .dataframe tbody tr th {\n",
       "        vertical-align: top;\n",
       "    }\n",
       "\n",
       "    .dataframe thead th {\n",
       "        text-align: right;\n",
       "    }\n",
       "</style>\n",
       "<table border=\"1\" class=\"dataframe\">\n",
       "  <thead>\n",
       "    <tr style=\"text-align: right;\">\n",
       "      <th></th>\n",
       "      <th>Delivery Time</th>\n",
       "    </tr>\n",
       "  </thead>\n",
       "  <tbody>\n",
       "    <tr>\n",
       "      <th>0</th>\n",
       "      <td>21.00</td>\n",
       "    </tr>\n",
       "    <tr>\n",
       "      <th>1</th>\n",
       "      <td>13.50</td>\n",
       "    </tr>\n",
       "    <tr>\n",
       "      <th>2</th>\n",
       "      <td>19.75</td>\n",
       "    </tr>\n",
       "    <tr>\n",
       "      <th>3</th>\n",
       "      <td>24.00</td>\n",
       "    </tr>\n",
       "    <tr>\n",
       "      <th>4</th>\n",
       "      <td>29.00</td>\n",
       "    </tr>\n",
       "    <tr>\n",
       "      <th>5</th>\n",
       "      <td>15.35</td>\n",
       "    </tr>\n",
       "    <tr>\n",
       "      <th>6</th>\n",
       "      <td>19.00</td>\n",
       "    </tr>\n",
       "    <tr>\n",
       "      <th>7</th>\n",
       "      <td>9.50</td>\n",
       "    </tr>\n",
       "    <tr>\n",
       "      <th>8</th>\n",
       "      <td>17.90</td>\n",
       "    </tr>\n",
       "    <tr>\n",
       "      <th>9</th>\n",
       "      <td>18.75</td>\n",
       "    </tr>\n",
       "    <tr>\n",
       "      <th>10</th>\n",
       "      <td>19.83</td>\n",
       "    </tr>\n",
       "    <tr>\n",
       "      <th>11</th>\n",
       "      <td>10.75</td>\n",
       "    </tr>\n",
       "    <tr>\n",
       "      <th>12</th>\n",
       "      <td>16.68</td>\n",
       "    </tr>\n",
       "    <tr>\n",
       "      <th>13</th>\n",
       "      <td>11.50</td>\n",
       "    </tr>\n",
       "    <tr>\n",
       "      <th>14</th>\n",
       "      <td>12.03</td>\n",
       "    </tr>\n",
       "    <tr>\n",
       "      <th>15</th>\n",
       "      <td>14.88</td>\n",
       "    </tr>\n",
       "    <tr>\n",
       "      <th>16</th>\n",
       "      <td>13.75</td>\n",
       "    </tr>\n",
       "    <tr>\n",
       "      <th>17</th>\n",
       "      <td>18.11</td>\n",
       "    </tr>\n",
       "    <tr>\n",
       "      <th>18</th>\n",
       "      <td>8.00</td>\n",
       "    </tr>\n",
       "    <tr>\n",
       "      <th>19</th>\n",
       "      <td>17.83</td>\n",
       "    </tr>\n",
       "    <tr>\n",
       "      <th>20</th>\n",
       "      <td>21.50</td>\n",
       "    </tr>\n",
       "  </tbody>\n",
       "</table>\n",
       "</div>"
      ],
      "text/plain": [
       "    Delivery Time\n",
       "0           21.00\n",
       "1           13.50\n",
       "2           19.75\n",
       "3           24.00\n",
       "4           29.00\n",
       "5           15.35\n",
       "6           19.00\n",
       "7            9.50\n",
       "8           17.90\n",
       "9           18.75\n",
       "10          19.83\n",
       "11          10.75\n",
       "12          16.68\n",
       "13          11.50\n",
       "14          12.03\n",
       "15          14.88\n",
       "16          13.75\n",
       "17          18.11\n",
       "18           8.00\n",
       "19          17.83\n",
       "20          21.50"
      ]
     },
     "execution_count": 22,
     "metadata": {},
     "output_type": "execute_result"
    }
   ],
   "source": [
    "y"
   ]
  },
  {
   "cell_type": "code",
   "execution_count": 23,
   "id": "fcd43b23",
   "metadata": {},
   "outputs": [
    {
     "data": {
      "text/plain": [
       "<AxesSubplot:xlabel='Delivery Time', ylabel='Sorting Time'>"
      ]
     },
     "execution_count": 23,
     "metadata": {},
     "output_type": "execute_result"
    },
    {
     "data": {
      "image/png": "[encoded data removed]",
      "text/plain": [
       "<Figure size 864x360 with 3 Axes>"
      ]
     },
     "metadata": {
      "needs_background": "light"
     },
     "output_type": "display_data"
    }
   ],
   "source": [
    "fig,axs=plt.subplots(1,3)\n",
    "delivery.plot(kind='scatter',x='Delivery Time',y='Sorting Time',ax=axs[0],figsize=(12,5))"
   ]
  },
  {
   "cell_type": "code",
   "execution_count": 24,
   "id": "351167f0",
   "metadata": {},
   "outputs": [],
   "source": [
    "x_train,x_test,y_train,y_test=train_test_split(x,y,train_size=0.7,random_state=10)"
   ]
  },
  {
   "cell_type": "code",
   "execution_count": 25,
   "id": "4e061233",
   "metadata": {},
   "outputs": [
    {
     "data": {
      "text/plain": [
       "19     7\n",
       "6      7\n",
       "12     7\n",
       "17     7\n",
       "20     5\n",
       "8     10\n",
       "10     8\n",
       "1      4\n",
       "13     3\n",
       "16     6\n",
       "0     10\n",
       "15     4\n",
       "4     10\n",
       "9      9\n",
       "Name: Sorting Time, dtype: int64"
      ]
     },
     "execution_count": 25,
     "metadata": {},
     "output_type": "execute_result"
    }
   ],
   "source": [
    "x_train"
   ]
  },
  {
   "cell_type": "code",
   "execution_count": 26,
   "id": "b5af7cf0",
   "metadata": {},
   "outputs": [
    {
     "data": {
      "text/html": [
       "<div>\n",
       "<style scoped>\n",
       "    .dataframe tbody tr th:only-of-type {\n",
       "        vertical-align: middle;\n",
       "    }\n",
       "\n",
       "    .dataframe tbody tr th {\n",
       "        vertical-align: top;\n",
       "    }\n",
       "\n",
       "    .dataframe thead th {\n",
       "        text-align: right;\n",
       "    }\n",
       "</style>\n",
       "<table border=\"1\" class=\"dataframe\">\n",
       "  <thead>\n",
       "    <tr style=\"text-align: right;\">\n",
       "      <th></th>\n",
       "      <th>Delivery Time</th>\n",
       "    </tr>\n",
       "  </thead>\n",
       "  <tbody>\n",
       "    <tr>\n",
       "      <th>19</th>\n",
       "      <td>17.83</td>\n",
       "    </tr>\n",
       "    <tr>\n",
       "      <th>6</th>\n",
       "      <td>19.00</td>\n",
       "    </tr>\n",
       "    <tr>\n",
       "      <th>12</th>\n",
       "      <td>16.68</td>\n",
       "    </tr>\n",
       "    <tr>\n",
       "      <th>17</th>\n",
       "      <td>18.11</td>\n",
       "    </tr>\n",
       "    <tr>\n",
       "      <th>20</th>\n",
       "      <td>21.50</td>\n",
       "    </tr>\n",
       "    <tr>\n",
       "      <th>8</th>\n",
       "      <td>17.90</td>\n",
       "    </tr>\n",
       "    <tr>\n",
       "      <th>10</th>\n",
       "      <td>19.83</td>\n",
       "    </tr>\n",
       "    <tr>\n",
       "      <th>1</th>\n",
       "      <td>13.50</td>\n",
       "    </tr>\n",
       "    <tr>\n",
       "      <th>13</th>\n",
       "      <td>11.50</td>\n",
       "    </tr>\n",
       "    <tr>\n",
       "      <th>16</th>\n",
       "      <td>13.75</td>\n",
       "    </tr>\n",
       "    <tr>\n",
       "      <th>0</th>\n",
       "      <td>21.00</td>\n",
       "    </tr>\n",
       "    <tr>\n",
       "      <th>15</th>\n",
       "      <td>14.88</td>\n",
       "    </tr>\n",
       "    <tr>\n",
       "      <th>4</th>\n",
       "      <td>29.00</td>\n",
       "    </tr>\n",
       "    <tr>\n",
       "      <th>9</th>\n",
       "      <td>18.75</td>\n",
       "    </tr>\n",
       "  </tbody>\n",
       "</table>\n",
       "</div>"
      ],
      "text/plain": [
       "    Delivery Time\n",
       "19          17.83\n",
       "6           19.00\n",
       "12          16.68\n",
       "17          18.11\n",
       "20          21.50\n",
       "8           17.90\n",
       "10          19.83\n",
       "1           13.50\n",
       "13          11.50\n",
       "16          13.75\n",
       "0           21.00\n",
       "15          14.88\n",
       "4           29.00\n",
       "9           18.75"
      ]
     },
     "execution_count": 26,
     "metadata": {},
     "output_type": "execute_result"
    }
   ],
   "source": [
    "y_train"
   ]
  },
  {
   "cell_type": "code",
   "execution_count": 27,
   "id": "d373ffc5",
   "metadata": {},
   "outputs": [
    {
     "data": {
      "text/html": [
       "<div>\n",
       "<style scoped>\n",
       "    .dataframe tbody tr th:only-of-type {\n",
       "        vertical-align: middle;\n",
       "    }\n",
       "\n",
       "    .dataframe tbody tr th {\n",
       "        vertical-align: top;\n",
       "    }\n",
       "\n",
       "    .dataframe thead th {\n",
       "        text-align: right;\n",
       "    }\n",
       "</style>\n",
       "<table border=\"1\" class=\"dataframe\">\n",
       "  <thead>\n",
       "    <tr style=\"text-align: right;\">\n",
       "      <th></th>\n",
       "      <th>Delivery Time</th>\n",
       "    </tr>\n",
       "  </thead>\n",
       "  <tbody>\n",
       "    <tr>\n",
       "      <th>14</th>\n",
       "      <td>12.03</td>\n",
       "    </tr>\n",
       "    <tr>\n",
       "      <th>5</th>\n",
       "      <td>15.35</td>\n",
       "    </tr>\n",
       "    <tr>\n",
       "      <th>2</th>\n",
       "      <td>19.75</td>\n",
       "    </tr>\n",
       "    <tr>\n",
       "      <th>11</th>\n",
       "      <td>10.75</td>\n",
       "    </tr>\n",
       "    <tr>\n",
       "      <th>7</th>\n",
       "      <td>9.50</td>\n",
       "    </tr>\n",
       "    <tr>\n",
       "      <th>18</th>\n",
       "      <td>8.00</td>\n",
       "    </tr>\n",
       "    <tr>\n",
       "      <th>3</th>\n",
       "      <td>24.00</td>\n",
       "    </tr>\n",
       "  </tbody>\n",
       "</table>\n",
       "</div>"
      ],
      "text/plain": [
       "    Delivery Time\n",
       "14          12.03\n",
       "5           15.35\n",
       "2           19.75\n",
       "11          10.75\n",
       "7            9.50\n",
       "18           8.00\n",
       "3           24.00"
      ]
     },
     "execution_count": 27,
     "metadata": {},
     "output_type": "execute_result"
    }
   ],
   "source": [
    "y_test"
   ]
  },
  {
   "cell_type": "code",
   "execution_count": 28,
   "id": "e78e9b95",
   "metadata": {},
   "outputs": [
    {
     "data": {
      "text/plain": [
       "14    3\n",
       "5     6\n",
       "2     6\n",
       "11    4\n",
       "7     3\n",
       "18    2\n",
       "3     9\n",
       "Name: Sorting Time, dtype: int64"
      ]
     },
     "execution_count": 28,
     "metadata": {},
     "output_type": "execute_result"
    }
   ],
   "source": [
    "x_test"
   ]
  },
  {
   "cell_type": "code",
   "execution_count": 29,
   "id": "da1d703c",
   "metadata": {},
   "outputs": [
    {
     "name": "stdout",
     "output_type": "stream",
     "text": [
      "(14,)\n",
      "(14, 1)\n",
      "(7,)\n",
      "(7, 1)\n"
     ]
    }
   ],
   "source": [
    "print(x_train.shape)\n",
    "print(y_train.shape)\n",
    "print(x_test.shape)\n",
    "print(y_test.shape)"
   ]
  },
  {
   "cell_type": "code",
   "execution_count": 30,
   "id": "41ea37be",
   "metadata": {},
   "outputs": [],
   "source": [
    "lin_model= LinearRegression()\n"
   ]
  },
  {
   "cell_type": "code",
   "execution_count": 31,
   "id": "ecfdb3bb",
   "metadata": {},
   "outputs": [
    {
     "data": {
      "text/html": [
       "<style>#sk-container-id-1 {color: black;}#sk-container-id-1 pre{padding: 0;}#sk-container-id-1 div.sk-toggleable {background-color: white;}#sk-container-id-1 label.sk-toggleable__label {cursor: pointer;display: block;width: 100%;margin-bottom: 0;padding: 0.3em;box-sizing: border-box;text-align: center;}#sk-container-id-1 label.sk-toggleable__label-arrow:before {content: \"▸\";float: left;margin-right: 0.25em;color: #696969;}#sk-container-id-1 label.sk-toggleable__label-arrow:hover:before {color: black;}#sk-container-id-1 div.sk-estimator:hover label.sk-toggleable__label-arrow:before {color: black;}#sk-container-id-1 div.sk-toggleable__content {max-height: 0;max-width: 0;overflow: hidden;text-align: left;background-color: #f0f8ff;}#sk-container-id-1 div.sk-toggleable__content pre {margin: 0.2em;color: black;border-radius: 0.25em;background-color: #f0f8ff;}#sk-container-id-1 input.sk-toggleable__control:checked~div.sk-toggleable__content {max-height: 200px;max-width: 100%;overflow: auto;}#sk-container-id-1 input.sk-toggleable__control:checked~label.sk-toggleable__label-arrow:before {content: \"▾\";}#sk-container-id-1 div.sk-estimator input.sk-toggleable__control:checked~label.sk-toggleable__label {background-color: #d4ebff;}#sk-container-id-1 div.sk-label input.sk-toggleable__control:checked~label.sk-toggleable__label {background-color: #d4ebff;}#sk-container-id-1 input.sk-hidden--visually {border: 0;clip: rect(1px 1px 1px 1px);clip: rect(1px, 1px, 1px, 1px);height: 1px;margin: -1px;overflow: hidden;padding: 0;position: absolute;width: 1px;}#sk-container-id-1 div.sk-estimator {font-family: monospace;background-color: #f0f8ff;border: 1px dotted black;border-radius: 0.25em;box-sizing: border-box;margin-bottom: 0.5em;}#sk-container-id-1 div.sk-estimator:hover {background-color: #d4ebff;}#sk-container-id-1 div.sk-parallel-item::after {content: \"\";width: 100%;border-bottom: 1px solid gray;flex-grow: 1;}#sk-container-id-1 div.sk-label:hover label.sk-toggleable__label {background-color: #d4ebff;}#sk-container-id-1 div.sk-serial::before {content: \"\";position: absolute;border-left: 1px solid gray;box-sizing: border-box;top: 0;bottom: 0;left: 50%;z-index: 0;}#sk-container-id-1 div.sk-serial {display: flex;flex-direction: column;align-items: center;background-color: white;padding-right: 0.2em;padding-left: 0.2em;position: relative;}#sk-container-id-1 div.sk-item {position: relative;z-index: 1;}#sk-container-id-1 div.sk-parallel {display: flex;align-items: stretch;justify-content: center;background-color: white;position: relative;}#sk-container-id-1 div.sk-item::before, #sk-container-id-1 div.sk-parallel-item::before {content: \"\";position: absolute;border-left: 1px solid gray;box-sizing: border-box;top: 0;bottom: 0;left: 50%;z-index: -1;}#sk-container-id-1 div.sk-parallel-item {display: flex;flex-direction: column;z-index: 1;position: relative;background-color: white;}#sk-container-id-1 div.sk-parallel-item:first-child::after {align-self: flex-end;width: 50%;}#sk-container-id-1 div.sk-parallel-item:last-child::after {align-self: flex-start;width: 50%;}#sk-container-id-1 div.sk-parallel-item:only-child::after {width: 0;}#sk-container-id-1 div.sk-dashed-wrapped {border: 1px dashed gray;margin: 0 0.4em 0.5em 0.4em;box-sizing: border-box;padding-bottom: 0.4em;background-color: white;}#sk-container-id-1 div.sk-label label {font-family: monospace;font-weight: bold;display: inline-block;line-height: 1.2em;}#sk-container-id-1 div.sk-label-container {text-align: center;}#sk-container-id-1 div.sk-container {/* jupyter's `normalize.less` sets `[hidden] { display: none; }` but bootstrap.min.css set `[hidden] { display: none !important; }` so we also need the `!important` here to be able to override the default hidden behavior on the sphinx rendered scikit-learn.org. See: https://github.com/scikit-learn/scikit-learn/issues/21755 */display: inline-block !important;position: relative;}#sk-container-id-1 div.sk-text-repr-fallback {display: none;}</style><div id=\"sk-container-id-1\" class=\"sk-top-container\"><div class=\"sk-text-repr-fallback\"><pre>LinearRegression()</pre><b>In a Jupyter environment, please rerun this cell to show the HTML representation or trust the notebook. <br />On GitHub, the HTML representation is unable to render, please try loading this page with nbviewer.org.</b></div><div class=\"sk-container\" hidden><div class=\"sk-item\"><div class=\"sk-estimator sk-toggleable\"><input class=\"sk-toggleable__control sk-hidden--visually\" id=\"sk-estimator-id-1\" type=\"checkbox\" checked><label for=\"sk-estimator-id-1\" class=\"sk-toggleable__label sk-toggleable__label-arrow\">LinearRegression</label><div class=\"sk-toggleable__content\"><pre>LinearRegression()</pre></div></div></div></div></div>"
      ],
      "text/plain": [
       "LinearRegression()"
      ]
     },
     "execution_count": 31,
     "metadata": {},
     "output_type": "execute_result"
    }
   ],
   "source": [
    "lin_model"
   ]
  },
  {
   "cell_type": "code",
   "execution_count": 32,
   "id": "295067d2",
   "metadata": {},
   "outputs": [
    {
     "name": "stdout",
     "output_type": "stream",
     "text": [
      "       Delivery Time  Sorting Time  Sorting Time_log  Sorting Time_sqrt  \\\n",
      "count      21.000000     21.000000         21.000000          21.000000   \n",
      "mean       16.790952      6.190476          1.728470           2.433008   \n",
      "std         5.074901      2.542028          0.467979           0.533381   \n",
      "min         8.000000      2.000000          0.693147           1.414214   \n",
      "25%        13.500000      4.000000          1.386294           2.000000   \n",
      "50%        17.830000      6.000000          1.791759           2.449490   \n",
      "75%        19.750000      8.000000          2.079442           2.828427   \n",
      "max        29.000000     10.000000          2.302585           3.162278   \n",
      "\n",
      "       Sorting Time_sq  Log_Delivery_Time  Sqrt_Sorting_Time  Sq_Delivery_Time  \n",
      "count        21.000000          21.000000          21.000000         21.000000  \n",
      "mean         44.476190           2.774787           2.433008        306.464290  \n",
      "std          32.265491           0.318219           0.533381        181.908545  \n",
      "min           4.000000           2.079442           1.414214         64.000000  \n",
      "25%          16.000000           2.602690           2.000000        182.250000  \n",
      "50%          36.000000           2.880882           2.449490        317.908900  \n",
      "75%          64.000000           2.983153           2.828427        390.062500  \n",
      "max         100.000000           3.367296           3.162278        841.000000  \n"
     ]
    }
   ],
   "source": [
    "print(delivery.describe())\n"
   ]
  },
  {
   "cell_type": "markdown",
   "id": "35a3a468",
   "metadata": {},
   "source": [
    "### Pairplot and visualization relationship"
   ]
  },
  {
   "cell_type": "code",
   "execution_count": 33,
   "id": "2de91df8",
   "metadata": {},
   "outputs": [
    {
     "data": {
      "image/png": "[encoded data removed]",
      "text/plain": [
       "<Figure size 1440x1440 with 72 Axes>"
      ]
     },
     "metadata": {
      "needs_background": "light"
     },
     "output_type": "display_data"
    }
   ],
   "source": [
    "sns.pairplot(delivery)\n",
    "plt.show()\n"
   ]
  },
  {
   "cell_type": "markdown",
   "id": "2b0e689d",
   "metadata": {},
   "source": [
    "### Histograms for distribution:"
   ]
  },
  {
   "cell_type": "code",
   "execution_count": 34,
   "id": "17dfaded",
   "metadata": {},
   "outputs": [
    {
     "data": {
      "image/png": "[encoded data removed]",
      "text/plain": [
       "<Figure size 864x288 with 3 Axes>"
      ]
     },
     "metadata": {
      "needs_background": "light"
     },
     "output_type": "display_data"
    }
   ],
   "source": [
    "plt.figure(figsize=(12, 4))\n",
    "plt.subplot(131)\n",
    "sns.histplot(delivery['Log_Delivery_Time'], kde=True)\n",
    "plt.title('Log Delivery Time')\n",
    "\n",
    "plt.subplot(132)\n",
    "sns.histplot(delivery['Sqrt_Sorting_Time'], kde=True)\n",
    "plt.title('Sqrt Sorting Time')\n",
    "\n",
    "plt.subplot(133)\n",
    "sns.histplot(delivery['Sq_Delivery_Time'], kde=True)\n",
    "plt.title('Sq Delivery Time')\n",
    "\n",
    "plt.tight_layout()\n",
    "plt.show()\n"
   ]
  },
  {
   "cell_type": "markdown",
   "id": "6cb414f1",
   "metadata": {},
   "source": [
    "###  Scatter plot to visualize relationships:"
   ]
  },
  {
   "cell_type": "code",
   "execution_count": 36,
   "id": "304e7d5e",
   "metadata": {},
   "outputs": [
    {
     "data": {
      "text/plain": [
       "Index(['Delivery Time', 'Sorting Time', 'Sorting Time_log',\n",
       "       'Sorting Time_sqrt', 'Sorting Time_sq', 'Log_Delivery_Time',\n",
       "       'Sqrt_Sorting_Time', 'Sq_Delivery_Time'],\n",
       "      dtype='object')"
      ]
     },
     "execution_count": 36,
     "metadata": {},
     "output_type": "execute_result"
    }
   ],
   "source": [
    "delivery.columns\n"
   ]
  },
  {
   "cell_type": "code",
   "execution_count": 39,
   "id": "9bb84815",
   "metadata": {},
   "outputs": [
    {
     "data": {
      "image/png": "[encoded data removed]",
      "text/plain": [
       "<Figure size 864x288 with 3 Axes>"
      ]
     },
     "metadata": {
      "needs_background": "light"
     },
     "output_type": "display_data"
    }
   ],
   "source": [
    "plt.figure(figsize=(12, 4))\n",
    "plt.subplot(131)\n",
    "sns.scatterplot(x='Log_Delivery_Time', y='Sorting Time_log', data=delivery)\n",
    "plt.title('Log Delivery Time vs Sorting Time (Log Transformed)')\n",
    "\n",
    "plt.subplot(132)\n",
    "sns.scatterplot(x='Sqrt_Sorting_Time', y='Delivery Time', data=delivery)\n",
    "plt.title('Sqrt Sorting Time vs Delivery Time')\n",
    "\n",
    "plt.subplot(133)\n",
    "sns.scatterplot(x='Sq_Delivery_Time', y='Sorting Time_sq', data=delivery)\n",
    "plt.title('Sq Delivery Time vs Sorting Time (Squared Transformed)')\n",
    "\n",
    "plt.tight_layout()\n",
    "plt.show()\n"
   ]
  },
  {
   "cell_type": "code",
   "execution_count": null,
   "id": "556eb388",
   "metadata": {},
   "outputs": [],
   "source": []
  }
 ],
 "metadata": {
  "kernelspec": {
   "display_name": "Python 3 (ipykernel)",
   "language": "python",
   "name": "python3"
  },
  "language_info": {
   "codemirror_mode": {
    "name": "ipython",
    "version": 3
   },
   "file_extension": ".py",
   "mimetype": "text/x-python",
   "name": "python",
   "nbconvert_exporter": "python",
   "pygments_lexer": "ipython3",
   "version": "3.9.12"
  }
 },
 "nbformat": 4,
 "nbformat_minor": 5
}
