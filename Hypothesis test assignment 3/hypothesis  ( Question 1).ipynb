{
 "cells": [
  {
   "cell_type": "code",
   "execution_count": 1,
   "id": "c81c752e",
   "metadata": {},
   "outputs": [],
   "source": [
    "import pandas as pd \n",
    "import numpy as np \n",
    "import scipy as stats"
   ]
  },
  {
   "cell_type": "code",
   "execution_count": 2,
   "id": "7efbfe56",
   "metadata": {},
   "outputs": [],
   "source": [
    "Cutlets = pd.read_csv(r\"C:\\Data Science Assignments\\Basics Statistis 1\\hypothesis\\Cutlets.csv\")"
   ]
  },
  {
   "cell_type": "code",
   "execution_count": 3,
   "id": "d95eb47f",
   "metadata": {},
   "outputs": [
    {
     "data": {
      "text/html": [
       "<div>\n",
       "<style scoped>\n",
       "    .dataframe tbody tr th:only-of-type {\n",
       "        vertical-align: middle;\n",
       "    }\n",
       "\n",
       "    .dataframe tbody tr th {\n",
       "        vertical-align: top;\n",
       "    }\n",
       "\n",
       "    .dataframe thead th {\n",
       "        text-align: right;\n",
       "    }\n",
       "</style>\n",
       "<table border=\"1\" class=\"dataframe\">\n",
       "  <thead>\n",
       "    <tr style=\"text-align: right;\">\n",
       "      <th></th>\n",
       "      <th>Unit A</th>\n",
       "      <th>Unit B</th>\n",
       "    </tr>\n",
       "  </thead>\n",
       "  <tbody>\n",
       "    <tr>\n",
       "      <th>0</th>\n",
       "      <td>6.8090</td>\n",
       "      <td>6.7703</td>\n",
       "    </tr>\n",
       "    <tr>\n",
       "      <th>1</th>\n",
       "      <td>6.4376</td>\n",
       "      <td>7.5093</td>\n",
       "    </tr>\n",
       "    <tr>\n",
       "      <th>2</th>\n",
       "      <td>6.9157</td>\n",
       "      <td>6.7300</td>\n",
       "    </tr>\n",
       "    <tr>\n",
       "      <th>3</th>\n",
       "      <td>7.3012</td>\n",
       "      <td>6.7878</td>\n",
       "    </tr>\n",
       "    <tr>\n",
       "      <th>4</th>\n",
       "      <td>7.4488</td>\n",
       "      <td>7.1522</td>\n",
       "    </tr>\n",
       "  </tbody>\n",
       "</table>\n",
       "</div>"
      ],
      "text/plain": [
       "   Unit A  Unit B\n",
       "0  6.8090  6.7703\n",
       "1  6.4376  7.5093\n",
       "2  6.9157  6.7300\n",
       "3  7.3012  6.7878\n",
       "4  7.4488  7.1522"
      ]
     },
     "execution_count": 3,
     "metadata": {},
     "output_type": "execute_result"
    }
   ],
   "source": [
    "Cutlets.head()"
   ]
  },
  {
   "cell_type": "code",
   "execution_count": 15,
   "id": "847a848c",
   "metadata": {},
   "outputs": [
    {
     "data": {
      "text/plain": [
       "Unit A    0\n",
       "Unit B    0\n",
       "dtype: int64"
      ]
     },
     "execution_count": 15,
     "metadata": {},
     "output_type": "execute_result"
    }
   ],
   "source": [
    "Cutlets.isnull().sum()"
   ]
  },
  {
   "cell_type": "code",
   "execution_count": 13,
   "id": "7f4e0159",
   "metadata": {},
   "outputs": [
    {
     "name": "stdout",
     "output_type": "stream",
     "text": [
      "Both samples appear to be normally distributed.\n"
     ]
    }
   ],
   "source": [
    "from scipy.stats import shapiro\n",
    "\n",
    "# Shapiro-Wilk test for normality\n",
    "p_value_unitA = shapiro(Cutlets['Unit A'])[1]\n",
    "p_value_unitB = shapiro(Cutlets['Unit B'])[1]\n",
    "\n",
    "if p_value_unitA > 0.05 and p_value_unitB > 0.05:\n",
    "    print(\"Both samples appear to be normally distributed.\")\n",
    "else:\n",
    "    print(\"At least one sample does not appear to be normally distributed.\")\n",
    "    "
   ]
  },
  {
   "cell_type": "code",
   "execution_count": 18,
   "id": "cc85f9e0",
   "metadata": {},
   "outputs": [
    {
     "name": "stdout",
     "output_type": "stream",
     "text": [
      "The variances of both samples are equal.\n"
     ]
    }
   ],
   "source": [
    "from scipy.stats import levene\n",
    "\n",
    "# Levene's test for equal variances\n",
    "_, p_value_levene = levene(Cutlets['Unit A'], Cutlets['Unit B'])\n",
    "\n",
    "if p_value_levene > 0.05:\n",
    "    print(\"The variances of both samples are equal.\")\n",
    "else:\n",
    "    print(\"The variances of the samples are not equal.\")"
   ]
  },
  {
   "cell_type": "code",
   "execution_count": 23,
   "id": "77c1c834",
   "metadata": {},
   "outputs": [
    {
     "name": "stdout",
     "output_type": "stream",
     "text": [
      "Fail to reject the null hypothesis. There is no significant difference in cutlet diameter between the two units.\n"
     ]
    }
   ],
   "source": [
    "from scipy.stats import ttest_ind\n",
    "\n",
    "# Two-sample t-test\n",
    "if p_value_levene > 0.05:\n",
    "    _, p_value = ttest_ind(Cutlets['Unit A'], Cutlets['Unit B'])\n",
    "else:\n",
    "    _, p_value = ttest_ind(Cutlets['Unit A'], Cutlets['Unit B'], equal_var=False)\n",
    "\n",
    "alpha = 0.05\n",
    "\n",
    "if p_value < alpha:\n",
    "    print(\"Reject the null hypothesis. There is a significant difference in cutlet diameter between the two units.\")\n",
    "else:\n",
    "    print(\"Fail to reject the null hypothesis. There is no significant difference in cutlet diameter between the two units.\")"
   ]
  },
  {
   "cell_type": "code",
   "execution_count": null,
   "id": "c4260917",
   "metadata": {},
   "outputs": [],
   "source": [
    "#If the p-value is less than your chosen significance level (e.g., 0.05), can reject the null hypothesis.\n",
    "#If the p-value is greater than the significance level, fail to reject the null hypothesis."
   ]
  }
 ],
 "metadata": {
  "kernelspec": {
   "display_name": "Python 3 (ipykernel)",
   "language": "python",
   "name": "python3"
  },
  "language_info": {
   "codemirror_mode": {
    "name": "ipython",
    "version": 3
   },
   "file_extension": ".py",
   "mimetype": "text/x-python",
   "name": "python",
   "nbconvert_exporter": "python",
   "pygments_lexer": "ipython3",
   "version": "3.9.12"
  }
 },
 "nbformat": 4,
 "nbformat_minor": 5
}
